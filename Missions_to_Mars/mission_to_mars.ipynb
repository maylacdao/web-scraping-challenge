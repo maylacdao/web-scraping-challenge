{
 "cells": [
  {
   "cell_type": "code",
   "execution_count": null,
   "metadata": {},
   "outputs": [],
   "source": [
    "#Build function to scrape relevant data:\n",
    "\n",
    "#1. Define function.\n",
    "def scrape():\n",
    "\n",
    "    #2. Import dependencies.\n",
    "    import pandas as pd\n",
    "    import json\n",
    "    import requests\n",
    "    from bs4 import BeautifulSoup as bs\n",
    "    from splinter import Browser\n",
    "    import time\n",
    "    \n",
    "    \n",
    "    \n",
    "    "
   ]
  }
 ],
 "metadata": {
  "kernelspec": {
   "display_name": "Python 3",
   "language": "python",
   "name": "python3"
  },
  "language_info": {
   "codemirror_mode": {
    "name": "ipython",
    "version": 3
   },
   "file_extension": ".py",
   "mimetype": "text/x-python",
   "name": "python",
   "nbconvert_exporter": "python",
   "pygments_lexer": "ipython3",
   "version": "3.8.3"
  }
 },
 "nbformat": 4,
 "nbformat_minor": 4
}
